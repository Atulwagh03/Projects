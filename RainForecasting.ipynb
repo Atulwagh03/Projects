{
  "nbformat": 4,
  "nbformat_minor": 0,
  "metadata": {
    "colab": {
      "provenance": []
    },
    "kernelspec": {
      "name": "python3",
      "display_name": "Python 3"
    },
    "language_info": {
      "name": "python"
    }
  },
  "cells": [
    {
      "cell_type": "markdown",
      "source": [
        "#Importing Libraries\n"
      ],
      "metadata": {
        "id": "SD8Int-4x86A"
      }
    },
    {
      "cell_type": "code",
      "source": [
        "import numpy as np\n",
        "import pandas as pd"
      ],
      "metadata": {
        "id": "LiZC47RVyCU4"
      },
      "execution_count": 2,
      "outputs": []
    },
    {
      "cell_type": "markdown",
      "source": [
        "#Importing Dataset"
      ],
      "metadata": {
        "id": "0HHZSxBYyLIY"
      }
    },
    {
      "cell_type": "code",
      "source": [
        "df = pd.read_csv(\"/content/weatherAUS.csv\")\n",
        "X= df.iloc[:,[1,2,3,4,7,8,9,10,11,12,13,14,15,16,17,18,19,20,21]].values\n",
        "Y = df.iloc[:,-1].values"
      ],
      "metadata": {
        "id": "ZmBKR2j-yKGs"
      },
      "execution_count": 3,
      "outputs": []
    },
    {
      "cell_type": "code",
      "source": [
        "df.head()\n",
        "df.shape\n"
      ],
      "metadata": {
        "colab": {
          "base_uri": "https://localhost:8080/"
        },
        "id": "zqvMop0uzlzJ",
        "outputId": "1aabfd88-8959-47e9-8c44-ac17b0b1def7"
      },
      "execution_count": 4,
      "outputs": [
        {
          "output_type": "execute_result",
          "data": {
            "text/plain": [
              "(145460, 23)"
            ]
          },
          "metadata": {},
          "execution_count": 4
        }
      ]
    },
    {
      "cell_type": "code",
      "source": [
        "print(X)"
      ],
      "metadata": {
        "colab": {
          "base_uri": "https://localhost:8080/"
        },
        "id": "-O280GD4zoDo",
        "outputId": "d699d51c-002b-4fe3-c5ea-aaafb55abcd5"
      },
      "execution_count": 5,
      "outputs": [
        {
          "output_type": "stream",
          "name": "stdout",
          "text": [
            "[['Albury' 13.4 22.9 ... 16.9 21.8 'No']\n",
            " ['Albury' 7.4 25.1 ... 17.2 24.3 'No']\n",
            " ['Albury' 12.9 25.7 ... 21.0 23.2 'No']\n",
            " ...\n",
            " ['Uluru' 5.4 26.9 ... 12.5 26.1 'No']\n",
            " ['Uluru' 7.8 27.0 ... 15.1 26.0 'No']\n",
            " ['Uluru' 14.9 nan ... 15.0 20.9 'No']]\n"
          ]
        }
      ]
    },
    {
      "cell_type": "code",
      "source": [
        "print(Y)"
      ],
      "metadata": {
        "colab": {
          "base_uri": "https://localhost:8080/"
        },
        "id": "QLuGJM9v0s2i",
        "outputId": "4506dd78-a981-479d-8425-48ce588f5d98"
      },
      "execution_count": 6,
      "outputs": [
        {
          "output_type": "stream",
          "name": "stdout",
          "text": [
            "['No' 'No' 'No' ... 'No' 'No' nan]\n"
          ]
        }
      ]
    },
    {
      "cell_type": "code",
      "source": [
        "Y = Y.reshape(-1,1)"
      ],
      "metadata": {
        "id": "VcNrPEYb1Jsh"
      },
      "execution_count": 7,
      "outputs": []
    },
    {
      "cell_type": "code",
      "source": [
        "print(Y)"
      ],
      "metadata": {
        "id": "-N3Yt8_S1QAJ",
        "outputId": "2709b688-0a9d-48f2-e5c9-cf0ab6d095c3",
        "colab": {
          "base_uri": "https://localhost:8080/"
        }
      },
      "execution_count": 8,
      "outputs": [
        {
          "output_type": "stream",
          "name": "stdout",
          "text": [
            "[['No']\n",
            " ['No']\n",
            " ['No']\n",
            " ...\n",
            " ['No']\n",
            " ['No']\n",
            " [nan]]\n"
          ]
        }
      ]
    },
    {
      "cell_type": "markdown",
      "source": [
        "#Dealing with invalid Dataset"
      ],
      "metadata": {
        "id": "MVNpaMEc1ChR"
      }
    },
    {
      "cell_type": "code",
      "source": [
        "from sklearn.impute import SimpleImputer\n",
        "\n",
        "imputer = SimpleImputer(missing_values = np.nan, strategy='most_frequent')"
      ],
      "metadata": {
        "id": "jDTG_dYG0vJQ"
      },
      "execution_count": 9,
      "outputs": []
    },
    {
      "cell_type": "code",
      "source": [
        "X = imputer.fit_transform(X)\n",
        "Y = imputer.fit_transform(Y)"
      ],
      "metadata": {
        "id": "YB1XQSL7FSXc"
      },
      "execution_count": 10,
      "outputs": []
    },
    {
      "cell_type": "code",
      "source": [
        "print(X)"
      ],
      "metadata": {
        "colab": {
          "base_uri": "https://localhost:8080/"
        },
        "id": "L1qc3N4GQm-O",
        "outputId": "33cba990-b023-40e1-dae4-368284a8cfe9"
      },
      "execution_count": 11,
      "outputs": [
        {
          "output_type": "stream",
          "name": "stdout",
          "text": [
            "[['Albury' 13.4 22.9 ... 16.9 21.8 'No']\n",
            " ['Albury' 7.4 25.1 ... 17.2 24.3 'No']\n",
            " ['Albury' 12.9 25.7 ... 21.0 23.2 'No']\n",
            " ...\n",
            " ['Uluru' 5.4 26.9 ... 12.5 26.1 'No']\n",
            " ['Uluru' 7.8 27.0 ... 15.1 26.0 'No']\n",
            " ['Uluru' 14.9 20.0 ... 15.0 20.9 'No']]\n"
          ]
        }
      ]
    },
    {
      "cell_type": "code",
      "source": [
        "print(Y)"
      ],
      "metadata": {
        "colab": {
          "base_uri": "https://localhost:8080/"
        },
        "id": "x04h0p4bGBQG",
        "outputId": "03a869ac-e35b-4bde-c020-baab3510e5ef"
      },
      "execution_count": 12,
      "outputs": [
        {
          "output_type": "stream",
          "name": "stdout",
          "text": [
            "[['No']\n",
            " ['No']\n",
            " ['No']\n",
            " ...\n",
            " ['No']\n",
            " ['No']\n",
            " ['No']]\n"
          ]
        }
      ]
    },
    {
      "cell_type": "markdown",
      "source": [
        "#Encoding Dataset\n"
      ],
      "metadata": {
        "id": "UrlChth6Hz5c"
      }
    },
    {
      "cell_type": "code",
      "source": [
        "from sklearn.preprocessing import LabelEncoder\n",
        "le1 = LabelEncoder()\n",
        "X[:,0] = le1.fit_transform(X[:,0])\n",
        "le2 = LabelEncoder()\n",
        "X[:,4] = le2.fit_transform(X[:,4])\n",
        "le3 = LabelEncoder()\n",
        "X[:,6] = le3.fit_transform(X[:,6])\n",
        "le4 = LabelEncoder()\n",
        "X[:,7] = le4.fit_transform(X[:,7])\n",
        "le5 = LabelEncoder()\n",
        "X[:,-1] = le5.fit_transform(X[:,-1])\n",
        "le6 = LabelEncoder()\n",
        "Y[:,-1] = le6.fit_transform(Y[:,-1])\n"
      ],
      "metadata": {
        "id": "yXwyJmaqGNHO"
      },
      "execution_count": 13,
      "outputs": []
    },
    {
      "cell_type": "code",
      "source": [
        "print(X)"
      ],
      "metadata": {
        "colab": {
          "base_uri": "https://localhost:8080/"
        },
        "id": "3UKrvE0JGRwl",
        "outputId": "fccd578d-aea2-4c0a-bb96-cf18a9434f58"
      },
      "execution_count": 14,
      "outputs": [
        {
          "output_type": "stream",
          "name": "stdout",
          "text": [
            "[[2 13.4 22.9 ... 16.9 21.8 0]\n",
            " [2 7.4 25.1 ... 17.2 24.3 0]\n",
            " [2 12.9 25.7 ... 21.0 23.2 0]\n",
            " ...\n",
            " [41 5.4 26.9 ... 12.5 26.1 0]\n",
            " [41 7.8 27.0 ... 15.1 26.0 0]\n",
            " [41 14.9 20.0 ... 15.0 20.9 0]]\n"
          ]
        }
      ]
    },
    {
      "cell_type": "code",
      "source": [
        "print(Y)"
      ],
      "metadata": {
        "colab": {
          "base_uri": "https://localhost:8080/"
        },
        "id": "QKF-UFzEGRs9",
        "outputId": "7ad2cf58-66ef-4bb8-de6e-3a05a97c1c49"
      },
      "execution_count": 15,
      "outputs": [
        {
          "output_type": "stream",
          "name": "stdout",
          "text": [
            "[[0]\n",
            " [0]\n",
            " [0]\n",
            " ...\n",
            " [0]\n",
            " [0]\n",
            " [0]]\n"
          ]
        }
      ]
    },
    {
      "cell_type": "code",
      "source": [
        "Y = np.array(Y,dtype=float)\n",
        "print(Y)"
      ],
      "metadata": {
        "colab": {
          "base_uri": "https://localhost:8080/"
        },
        "id": "5zlykYqEDdT8",
        "outputId": "5920a8a6-9c39-464e-ca54-dca18ee32a8b"
      },
      "execution_count": 16,
      "outputs": [
        {
          "output_type": "stream",
          "name": "stdout",
          "text": [
            "[[0.]\n",
            " [0.]\n",
            " [0.]\n",
            " ...\n",
            " [0.]\n",
            " [0.]\n",
            " [0.]]\n"
          ]
        }
      ]
    },
    {
      "cell_type": "markdown",
      "source": [
        "#Feature Scaling"
      ],
      "metadata": {
        "id": "wRJDeqzZKEc3"
      }
    },
    {
      "cell_type": "code",
      "source": [
        "from sklearn.preprocessing import StandardScaler\n",
        "sc = StandardScaler()\n",
        "X = sc.fit_transform(X)"
      ],
      "metadata": {
        "id": "BiFvSMtPGRov"
      },
      "execution_count": 17,
      "outputs": []
    },
    {
      "cell_type": "code",
      "source": [
        "print(X)"
      ],
      "metadata": {
        "colab": {
          "base_uri": "https://localhost:8080/"
        },
        "id": "NcqxDjU3GRmc",
        "outputId": "567654f6-0a1a-4212-d988-802a39a68cea"
      },
      "execution_count": 18,
      "outputs": [
        {
          "output_type": "stream",
          "name": "stdout",
          "text": [
            "[[-1.53166617  0.19132753 -0.04135977 ... -0.01407077  0.02310362\n",
            "  -0.52979545]\n",
            " [-1.53166617 -0.75105231  0.26874452 ...  0.03244663  0.387799\n",
            "  -0.52979545]\n",
            " [-1.53166617  0.11279588  0.35331842 ...  0.62166712  0.22733303\n",
            "  -0.52979545]\n",
            " ...\n",
            " [ 1.20928479 -1.06517892  0.52246622 ... -0.69632607  0.65037966\n",
            "  -0.52979545]\n",
            " [ 1.20928479 -0.68822699  0.53656187 ... -0.29317521  0.63579185\n",
            "  -0.52979545]\n",
            " [ 1.20928479  0.42692249 -0.45013361 ... -0.30868102 -0.10818671\n",
            "  -0.52979545]]\n"
          ]
        }
      ]
    },
    {
      "cell_type": "markdown",
      "source": [
        "#Splitting Data\n"
      ],
      "metadata": {
        "id": "PQSw0lYhLoGx"
      }
    },
    {
      "cell_type": "code",
      "source": [
        "from sklearn.model_selection import  train_test_split\n",
        "\n",
        "X_train,X_test,Y_train,Y_test = train_test_split(X,Y,test_size=0.2,random_state=0)"
      ],
      "metadata": {
        "id": "PH2HqoPEGRj6"
      },
      "execution_count": 19,
      "outputs": []
    },
    {
      "cell_type": "code",
      "source": [
        "print(X_train)"
      ],
      "metadata": {
        "colab": {
          "base_uri": "https://localhost:8080/"
        },
        "id": "GLjr7O3bGRg6",
        "outputId": "0a5ae471-b5b9-4fbe-a8b8-930c41111b14"
      },
      "execution_count": 20,
      "outputs": [
        {
          "output_type": "stream",
          "name": "stdout",
          "text": [
            "[[ 0.22535368  1.03946939  0.07140543 ...  0.68369032  0.08145488\n",
            "  -0.52979545]\n",
            " [ 1.42012717 -0.45263203  0.11369237 ... -0.41722163  0.22733303\n",
            "  -0.52979545]\n",
            " [ 0.50647685 -0.20133073 -0.14002932 ... -0.06058818 -0.02065982\n",
            "   1.88752093]\n",
            " ...\n",
            " [ 1.0687232   0.75675544  0.93124006 ...  1.10234698  1.07342629\n",
            "  -0.52979545]\n",
            " [ 0.57675765 -0.04426743 -0.16822062 ...  0.01694083 -0.28324049\n",
            "   1.88752093]\n",
            " [ 1.63096955 -0.0285611  -0.91529006 ... -0.35519842 -0.76463838\n",
            "  -0.52979545]]\n"
          ]
        }
      ]
    },
    {
      "cell_type": "code",
      "source": [
        "print(Y_train)"
      ],
      "metadata": {
        "colab": {
          "base_uri": "https://localhost:8080/"
        },
        "id": "rESWchJUGReY",
        "outputId": "2ba929de-fbe2-420d-ca73-40238da2e49a"
      },
      "execution_count": 21,
      "outputs": [
        {
          "output_type": "stream",
          "name": "stdout",
          "text": [
            "[[1.]\n",
            " [0.]\n",
            " [0.]\n",
            " ...\n",
            " [0.]\n",
            " [0.]\n",
            " [0.]]\n"
          ]
        }
      ]
    },
    {
      "cell_type": "markdown",
      "source": [
        "#Training Model"
      ],
      "metadata": {
        "id": "bZVBZBxEMzIm"
      }
    },
    {
      "cell_type": "code",
      "source": [
        "from sklearn.ensemble import RandomForestClassifier\n",
        "classifier = RandomForestClassifier(n_estimators=100,random_state=0)\n",
        "classifier.fit(X_train,Y_train)"
      ],
      "metadata": {
        "colab": {
          "base_uri": "https://localhost:8080/"
        },
        "id": "D3c6R4eiGRbR",
        "outputId": "efaf6967-3569-461f-8050-28d06c961f54"
      },
      "execution_count": 22,
      "outputs": [
        {
          "output_type": "stream",
          "name": "stderr",
          "text": [
            "/usr/local/lib/python3.7/dist-packages/ipykernel_launcher.py:3: DataConversionWarning: A column-vector y was passed when a 1d array was expected. Please change the shape of y to (n_samples,), for example using ravel().\n",
            "  This is separate from the ipykernel package so we can avoid doing imports until\n"
          ]
        },
        {
          "output_type": "execute_result",
          "data": {
            "text/plain": [
              "RandomForestClassifier(random_state=0)"
            ]
          },
          "metadata": {},
          "execution_count": 22
        }
      ]
    },
    {
      "cell_type": "code",
      "source": [
        "classifier.score(X_train,Y_train)"
      ],
      "metadata": {
        "id": "OgFWbfXqGRX1",
        "colab": {
          "base_uri": "https://localhost:8080/"
        },
        "outputId": "1c967547-fe99-454d-8b6b-ebeeb97d5188"
      },
      "execution_count": 23,
      "outputs": [
        {
          "output_type": "execute_result",
          "data": {
            "text/plain": [
              "0.9999312525780283"
            ]
          },
          "metadata": {},
          "execution_count": 23
        }
      ]
    },
    {
      "cell_type": "code",
      "source": [
        "y_pred = le6.inverse_transform(np.array(classifier.predict(X_test),dtype=int))\n",
        "Y_test = le6.inverse_transform(np.array(Y_test,dtype=int))"
      ],
      "metadata": {
        "id": "jE5W_qrHGRVt",
        "colab": {
          "base_uri": "https://localhost:8080/"
        },
        "outputId": "e9d3c25c-a54a-45fc-a3b2-0c74f8a8058a"
      },
      "execution_count": 24,
      "outputs": [
        {
          "output_type": "stream",
          "name": "stderr",
          "text": [
            "/usr/local/lib/python3.7/dist-packages/sklearn/preprocessing/_label.py:154: DataConversionWarning: A column-vector y was passed when a 1d array was expected. Please change the shape of y to (n_samples, ), for example using ravel().\n",
            "  y = column_or_1d(y, warn=True)\n"
          ]
        }
      ]
    },
    {
      "cell_type": "code",
      "source": [
        "print(y_pred)\n"
      ],
      "metadata": {
        "id": "i4tO-c2MGRSQ",
        "colab": {
          "base_uri": "https://localhost:8080/"
        },
        "outputId": "947ab1c1-7105-4bbb-fa44-5d36f913576d"
      },
      "execution_count": 25,
      "outputs": [
        {
          "output_type": "stream",
          "name": "stdout",
          "text": [
            "['No' 'No' 'No' ... 'No' 'No' 'No']\n"
          ]
        }
      ]
    },
    {
      "cell_type": "code",
      "source": [
        "print(Y_test)\n"
      ],
      "metadata": {
        "id": "qSQDXOUJGRPi",
        "colab": {
          "base_uri": "https://localhost:8080/"
        },
        "outputId": "5bc76e90-8067-40a5-d63c-2ec9e6cc949b"
      },
      "execution_count": 26,
      "outputs": [
        {
          "output_type": "stream",
          "name": "stdout",
          "text": [
            "['Yes' 'Yes' 'No' ... 'Yes' 'No' 'No']\n"
          ]
        }
      ]
    },
    {
      "cell_type": "code",
      "source": [
        "y_pred = y_pred.reshape(-1,1)\n",
        "Y_test = Y_test.reshape(-1,1)"
      ],
      "metadata": {
        "id": "VBhLhxyMEgjR"
      },
      "execution_count": 27,
      "outputs": []
    },
    {
      "cell_type": "code",
      "source": [
        "df = np.concatenate((Y_test,y_pred),axis=1)\n",
        "dataframe = pd.DataFrame(df,columns=['Rain Tommorrow','Predition of Rain'])"
      ],
      "metadata": {
        "id": "tyuOc2oAGRNE"
      },
      "execution_count": 31,
      "outputs": []
    },
    {
      "cell_type": "code",
      "source": [
        "print(dataframe)\n"
      ],
      "metadata": {
        "id": "uTRJrMl1GRKG",
        "colab": {
          "base_uri": "https://localhost:8080/"
        },
        "outputId": "ef167c1b-066c-47eb-eb2d-cb34d9919eb6"
      },
      "execution_count": 32,
      "outputs": [
        {
          "output_type": "stream",
          "name": "stdout",
          "text": [
            "      Rain Tommorrow Predition of Rain\n",
            "0                Yes                No\n",
            "1                Yes                No\n",
            "2                 No                No\n",
            "3                 No               Yes\n",
            "4                 No                No\n",
            "...              ...               ...\n",
            "29087             No               Yes\n",
            "29088             No                No\n",
            "29089            Yes                No\n",
            "29090             No                No\n",
            "29091             No                No\n",
            "\n",
            "[29092 rows x 2 columns]\n"
          ]
        }
      ]
    },
    {
      "cell_type": "code",
      "source": [],
      "metadata": {
        "id": "62DtlxnbGRG5"
      },
      "execution_count": null,
      "outputs": []
    },
    {
      "cell_type": "markdown",
      "source": [
        "##Calculating Accuracy"
      ],
      "metadata": {
        "id": "Vifth_ipEyad"
      }
    },
    {
      "cell_type": "code",
      "source": [
        "from sklearn.metrics import accuracy_score\n",
        "accuracy_score(Y_test,y_pred)"
      ],
      "metadata": {
        "colab": {
          "base_uri": "https://localhost:8080/"
        },
        "id": "FNWHL4InE50D",
        "outputId": "2c355435-3d64-4734-d71e-93367aee86ff"
      },
      "execution_count": 30,
      "outputs": [
        {
          "output_type": "execute_result",
          "data": {
            "text/plain": [
              "0.8521930427608965"
            ]
          },
          "metadata": {},
          "execution_count": 30
        }
      ]
    },
    {
      "cell_type": "code",
      "source": [],
      "metadata": {
        "id": "4iTRT6p-E5wc"
      },
      "execution_count": null,
      "outputs": []
    },
    {
      "cell_type": "code",
      "source": [],
      "metadata": {
        "id": "v1N98q3yE5uj"
      },
      "execution_count": null,
      "outputs": []
    }
  ]
}