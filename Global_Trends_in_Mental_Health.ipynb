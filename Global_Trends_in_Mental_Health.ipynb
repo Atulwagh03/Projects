{
  "nbformat": 4,
  "nbformat_minor": 0,
  "metadata": {
    "colab": {
      "provenance": []
    },
    "kernelspec": {
      "name": "python3",
      "display_name": "Python 3"
    },
    "language_info": {
      "name": "python"
    }
  },
  "cells": [
    {
      "cell_type": "code",
      "execution_count": null,
      "metadata": {
        "id": "QJM37v6IFgyq"
      },
      "outputs": [],
      "source": [
        "import pandas as pd\n",
        "import numpy as np"
      ]
    },
    {
      "cell_type": "code",
      "source": [],
      "metadata": {
        "id": "6Z5dXgt9Fz_Y"
      },
      "execution_count": null,
      "outputs": []
    },
    {
      "cell_type": "code",
      "source": [
        "import pandas as pd\n",
        "\n",
        "df = pd.read_csv('/content/Mental health Depression disorder Data.csv', index_col='index', low_memory=False)\n",
        "df.head()"
      ],
      "metadata": {
        "colab": {
          "base_uri": "https://localhost:8080/",
          "height": 299
        },
        "id": "6NmE8F-duQ9H",
        "outputId": "9282eef7-9216-430b-c127-585b7811b10f"
      },
      "execution_count": null,
      "outputs": [
        {
          "output_type": "execute_result",
          "data": {
            "text/plain": [
              "            Entity Code  Year Schizophrenia (%) Bipolar disorder (%)  \\\n",
              "index                                                                  \n",
              "0      Afghanistan  AFG  1990           0.16056             0.697779   \n",
              "1      Afghanistan  AFG  1991          0.160312             0.697961   \n",
              "2      Afghanistan  AFG  1992          0.160135             0.698107   \n",
              "3      Afghanistan  AFG  1993          0.160037             0.698257   \n",
              "4      Afghanistan  AFG  1994          0.160022             0.698469   \n",
              "\n",
              "      Eating disorders (%)  Anxiety disorders (%)  Drug use disorders (%)  \\\n",
              "index                                                                       \n",
              "0                 0.101855               4.828830                1.677082   \n",
              "1                 0.099313               4.829740                1.684746   \n",
              "2                 0.096692               4.831108                1.694334   \n",
              "3                 0.094336               4.830864                1.705320   \n",
              "4                 0.092439               4.829423                1.716069   \n",
              "\n",
              "       Depression (%)  Alcohol use disorders (%)  \n",
              "index                                             \n",
              "0            4.071831                   0.672404  \n",
              "1            4.079531                   0.671768  \n",
              "2            4.088358                   0.670644  \n",
              "3            4.096190                   0.669738  \n",
              "4            4.099582                   0.669260  "
            ],
            "text/html": [
              "\n",
              "  <div id=\"df-eaaa4104-00c5-4cf2-afc9-cda8f0bb32fa\">\n",
              "    <div class=\"colab-df-container\">\n",
              "      <div>\n",
              "<style scoped>\n",
              "    .dataframe tbody tr th:only-of-type {\n",
              "        vertical-align: middle;\n",
              "    }\n",
              "\n",
              "    .dataframe tbody tr th {\n",
              "        vertical-align: top;\n",
              "    }\n",
              "\n",
              "    .dataframe thead th {\n",
              "        text-align: right;\n",
              "    }\n",
              "</style>\n",
              "<table border=\"1\" class=\"dataframe\">\n",
              "  <thead>\n",
              "    <tr style=\"text-align: right;\">\n",
              "      <th></th>\n",
              "      <th>Entity</th>\n",
              "      <th>Code</th>\n",
              "      <th>Year</th>\n",
              "      <th>Schizophrenia (%)</th>\n",
              "      <th>Bipolar disorder (%)</th>\n",
              "      <th>Eating disorders (%)</th>\n",
              "      <th>Anxiety disorders (%)</th>\n",
              "      <th>Drug use disorders (%)</th>\n",
              "      <th>Depression (%)</th>\n",
              "      <th>Alcohol use disorders (%)</th>\n",
              "    </tr>\n",
              "    <tr>\n",
              "      <th>index</th>\n",
              "      <th></th>\n",
              "      <th></th>\n",
              "      <th></th>\n",
              "      <th></th>\n",
              "      <th></th>\n",
              "      <th></th>\n",
              "      <th></th>\n",
              "      <th></th>\n",
              "      <th></th>\n",
              "      <th></th>\n",
              "    </tr>\n",
              "  </thead>\n",
              "  <tbody>\n",
              "    <tr>\n",
              "      <th>0</th>\n",
              "      <td>Afghanistan</td>\n",
              "      <td>AFG</td>\n",
              "      <td>1990</td>\n",
              "      <td>0.16056</td>\n",
              "      <td>0.697779</td>\n",
              "      <td>0.101855</td>\n",
              "      <td>4.828830</td>\n",
              "      <td>1.677082</td>\n",
              "      <td>4.071831</td>\n",
              "      <td>0.672404</td>\n",
              "    </tr>\n",
              "    <tr>\n",
              "      <th>1</th>\n",
              "      <td>Afghanistan</td>\n",
              "      <td>AFG</td>\n",
              "      <td>1991</td>\n",
              "      <td>0.160312</td>\n",
              "      <td>0.697961</td>\n",
              "      <td>0.099313</td>\n",
              "      <td>4.829740</td>\n",
              "      <td>1.684746</td>\n",
              "      <td>4.079531</td>\n",
              "      <td>0.671768</td>\n",
              "    </tr>\n",
              "    <tr>\n",
              "      <th>2</th>\n",
              "      <td>Afghanistan</td>\n",
              "      <td>AFG</td>\n",
              "      <td>1992</td>\n",
              "      <td>0.160135</td>\n",
              "      <td>0.698107</td>\n",
              "      <td>0.096692</td>\n",
              "      <td>4.831108</td>\n",
              "      <td>1.694334</td>\n",
              "      <td>4.088358</td>\n",
              "      <td>0.670644</td>\n",
              "    </tr>\n",
              "    <tr>\n",
              "      <th>3</th>\n",
              "      <td>Afghanistan</td>\n",
              "      <td>AFG</td>\n",
              "      <td>1993</td>\n",
              "      <td>0.160037</td>\n",
              "      <td>0.698257</td>\n",
              "      <td>0.094336</td>\n",
              "      <td>4.830864</td>\n",
              "      <td>1.705320</td>\n",
              "      <td>4.096190</td>\n",
              "      <td>0.669738</td>\n",
              "    </tr>\n",
              "    <tr>\n",
              "      <th>4</th>\n",
              "      <td>Afghanistan</td>\n",
              "      <td>AFG</td>\n",
              "      <td>1994</td>\n",
              "      <td>0.160022</td>\n",
              "      <td>0.698469</td>\n",
              "      <td>0.092439</td>\n",
              "      <td>4.829423</td>\n",
              "      <td>1.716069</td>\n",
              "      <td>4.099582</td>\n",
              "      <td>0.669260</td>\n",
              "    </tr>\n",
              "  </tbody>\n",
              "</table>\n",
              "</div>\n",
              "      <button class=\"colab-df-convert\" onclick=\"convertToInteractive('df-eaaa4104-00c5-4cf2-afc9-cda8f0bb32fa')\"\n",
              "              title=\"Convert this dataframe to an interactive table.\"\n",
              "              style=\"display:none;\">\n",
              "        \n",
              "  <svg xmlns=\"http://www.w3.org/2000/svg\" height=\"24px\"viewBox=\"0 0 24 24\"\n",
              "       width=\"24px\">\n",
              "    <path d=\"M0 0h24v24H0V0z\" fill=\"none\"/>\n",
              "    <path d=\"M18.56 5.44l.94 2.06.94-2.06 2.06-.94-2.06-.94-.94-2.06-.94 2.06-2.06.94zm-11 1L8.5 8.5l.94-2.06 2.06-.94-2.06-.94L8.5 2.5l-.94 2.06-2.06.94zm10 10l.94 2.06.94-2.06 2.06-.94-2.06-.94-.94-2.06-.94 2.06-2.06.94z\"/><path d=\"M17.41 7.96l-1.37-1.37c-.4-.4-.92-.59-1.43-.59-.52 0-1.04.2-1.43.59L10.3 9.45l-7.72 7.72c-.78.78-.78 2.05 0 2.83L4 21.41c.39.39.9.59 1.41.59.51 0 1.02-.2 1.41-.59l7.78-7.78 2.81-2.81c.8-.78.8-2.07 0-2.86zM5.41 20L4 18.59l7.72-7.72 1.47 1.35L5.41 20z\"/>\n",
              "  </svg>\n",
              "      </button>\n",
              "      \n",
              "  <style>\n",
              "    .colab-df-container {\n",
              "      display:flex;\n",
              "      flex-wrap:wrap;\n",
              "      gap: 12px;\n",
              "    }\n",
              "\n",
              "    .colab-df-convert {\n",
              "      background-color: #E8F0FE;\n",
              "      border: none;\n",
              "      border-radius: 50%;\n",
              "      cursor: pointer;\n",
              "      display: none;\n",
              "      fill: #1967D2;\n",
              "      height: 32px;\n",
              "      padding: 0 0 0 0;\n",
              "      width: 32px;\n",
              "    }\n",
              "\n",
              "    .colab-df-convert:hover {\n",
              "      background-color: #E2EBFA;\n",
              "      box-shadow: 0px 1px 2px rgba(60, 64, 67, 0.3), 0px 1px 3px 1px rgba(60, 64, 67, 0.15);\n",
              "      fill: #174EA6;\n",
              "    }\n",
              "\n",
              "    [theme=dark] .colab-df-convert {\n",
              "      background-color: #3B4455;\n",
              "      fill: #D2E3FC;\n",
              "    }\n",
              "\n",
              "    [theme=dark] .colab-df-convert:hover {\n",
              "      background-color: #434B5C;\n",
              "      box-shadow: 0px 1px 3px 1px rgba(0, 0, 0, 0.15);\n",
              "      filter: drop-shadow(0px 1px 2px rgba(0, 0, 0, 0.3));\n",
              "      fill: #FFFFFF;\n",
              "    }\n",
              "  </style>\n",
              "\n",
              "      <script>\n",
              "        const buttonEl =\n",
              "          document.querySelector('#df-eaaa4104-00c5-4cf2-afc9-cda8f0bb32fa button.colab-df-convert');\n",
              "        buttonEl.style.display =\n",
              "          google.colab.kernel.accessAllowed ? 'block' : 'none';\n",
              "\n",
              "        async function convertToInteractive(key) {\n",
              "          const element = document.querySelector('#df-eaaa4104-00c5-4cf2-afc9-cda8f0bb32fa');\n",
              "          const dataTable =\n",
              "            await google.colab.kernel.invokeFunction('convertToInteractive',\n",
              "                                                     [key], {});\n",
              "          if (!dataTable) return;\n",
              "\n",
              "          const docLinkHtml = 'Like what you see? Visit the ' +\n",
              "            '<a target=\"_blank\" href=https://colab.research.google.com/notebooks/data_table.ipynb>data table notebook</a>'\n",
              "            + ' to learn more about interactive tables.';\n",
              "          element.innerHTML = '';\n",
              "          dataTable['output_type'] = 'display_data';\n",
              "          await google.colab.output.renderOutput(dataTable, element);\n",
              "          const docLink = document.createElement('div');\n",
              "          docLink.innerHTML = docLinkHtml;\n",
              "          element.appendChild(docLink);\n",
              "        }\n",
              "      </script>\n",
              "    </div>\n",
              "  </div>\n",
              "  "
            ]
          },
          "metadata": {},
          "execution_count": 1
        }
      ]
    },
    {
      "cell_type": "code",
      "source": [
        "df.dtypes"
      ],
      "metadata": {
        "colab": {
          "base_uri": "https://localhost:8080/"
        },
        "id": "OMf5kQb6uQ5T",
        "outputId": "ac50de58-8ed7-4a2d-c793-48482c9f2d60"
      },
      "execution_count": null,
      "outputs": [
        {
          "output_type": "execute_result",
          "data": {
            "text/plain": [
              "Entity                        object\n",
              "Code                          object\n",
              "Year                          object\n",
              "Schizophrenia (%)             object\n",
              "Bipolar disorder (%)          object\n",
              "Eating disorders (%)          object\n",
              "Anxiety disorders (%)        float64\n",
              "Drug use disorders (%)       float64\n",
              "Depression (%)               float64\n",
              "Alcohol use disorders (%)    float64\n",
              "dtype: object"
            ]
          },
          "metadata": {},
          "execution_count": 2
        }
      ]
    },
    {
      "cell_type": "code",
      "source": [
        "df.duplicated().sum()\n"
      ],
      "metadata": {
        "colab": {
          "base_uri": "https://localhost:8080/"
        },
        "id": "wAy_H8hTuQ3I",
        "outputId": "78bfcc84-56e0-4e55-b9c8-75e916c4c789"
      },
      "execution_count": null,
      "outputs": [
        {
          "output_type": "execute_result",
          "data": {
            "text/plain": [
              "9718"
            ]
          },
          "metadata": {},
          "execution_count": 3
        }
      ]
    },
    {
      "cell_type": "code",
      "source": [
        "duplicated_data = df[df.duplicated(keep='first')==True]\n",
        "duplicated_data.count()"
      ],
      "metadata": {
        "colab": {
          "base_uri": "https://localhost:8080/"
        },
        "id": "YA5NZ1kmuQzV",
        "outputId": "dec62051-4ad9-4ee8-87d1-265dd1100579"
      },
      "execution_count": null,
      "outputs": [
        {
          "output_type": "execute_result",
          "data": {
            "text/plain": [
              "Entity                       9718\n",
              "Code                         9474\n",
              "Year                         9718\n",
              "Schizophrenia (%)               0\n",
              "Bipolar disorder (%)            0\n",
              "Eating disorders (%)         9718\n",
              "Anxiety disorders (%)           0\n",
              "Drug use disorders (%)          0\n",
              "Depression (%)                  0\n",
              "Alcohol use disorders (%)       0\n",
              "dtype: int64"
            ]
          },
          "metadata": {},
          "execution_count": 4
        }
      ]
    },
    {
      "cell_type": "code",
      "source": [
        "# drop the duplicated rows, because in this analysis we don't need the duplicated datas.\n",
        "df.drop_duplicates(keep='first', inplace=True)"
      ],
      "metadata": {
        "id": "0ThKog24uQvc"
      },
      "execution_count": null,
      "outputs": []
    },
    {
      "cell_type": "code",
      "source": [
        "# check null values in df\n",
        "df[df.isna().any(axis=1)==True]      # here the null value is also present in 'Code' column, but this column does not affect much in analysis."
      ],
      "metadata": {
        "colab": {
          "base_uri": "https://localhost:8080/",
          "height": 603
        },
        "id": "_K7SqWDUuQuH",
        "outputId": "d5d83bbb-0bd1-4b88-8b24-82eb8b16d2d2"
      },
      "execution_count": null,
      "outputs": [
        {
          "output_type": "execute_result",
          "data": {
            "text/plain": [
              "                      Entity Code  Year Schizophrenia (%)  \\\n",
              "index                                                       \n",
              "112     Andean Latin America  NaN  1990          0.195471   \n",
              "113     Andean Latin America  NaN  1991          0.195484   \n",
              "114     Andean Latin America  NaN  1992          0.195497   \n",
              "115     Andean Latin America  NaN  1993          0.195523   \n",
              "116     Andean Latin America  NaN  1994          0.195569   \n",
              "...                      ...  ...   ...               ...   \n",
              "108548              Zimbabwe  ZWE  2013      303564.60359   \n",
              "108549              Zimbabwe  ZWE  2014     311665.769283   \n",
              "108550              Zimbabwe  ZWE  2015     320638.507158   \n",
              "108551              Zimbabwe  ZWE  2016     330437.353798   \n",
              "108552              Zimbabwe  ZWE  2017     340583.157405   \n",
              "\n",
              "       Bipolar disorder (%) Eating disorders (%)  Anxiety disorders (%)  \\\n",
              "index                                                                     \n",
              "112                0.870564              0.28782               4.217677   \n",
              "113                0.870876             0.289362               4.220261   \n",
              "114                0.871174             0.290563               4.222587   \n",
              "115                0.871482             0.291833               4.224721   \n",
              "116                0.871823             0.293111               4.226690   \n",
              "...                     ...                  ...                    ...   \n",
              "108548                  NaN                  NaN                    NaN   \n",
              "108549                  NaN                  NaN                    NaN   \n",
              "108550                  NaN                  NaN                    NaN   \n",
              "108551                  NaN                  NaN                    NaN   \n",
              "108552                  NaN                  NaN                    NaN   \n",
              "\n",
              "        Drug use disorders (%)  Depression (%)  Alcohol use disorders (%)  \n",
              "index                                                                      \n",
              "112                   0.608921        2.621781                   1.748912  \n",
              "113                   0.610489        2.631717                   1.743910  \n",
              "114                   0.611990        2.639932                   1.738703  \n",
              "115                   0.613995        2.646096                   1.733697  \n",
              "116                   0.616448        2.651022                   1.729266  \n",
              "...                        ...             ...                        ...  \n",
              "108548                     NaN             NaN                        NaN  \n",
              "108549                     NaN             NaN                        NaN  \n",
              "108550                     NaN             NaN                        NaN  \n",
              "108551                     NaN             NaN                        NaN  \n",
              "108552                     NaN             NaN                        NaN  \n",
              "\n",
              "[93347 rows x 10 columns]"
            ],
            "text/html": [
              "\n",
              "  <div id=\"df-0dbfb2e4-f7a4-4471-acf6-c8851cd30e63\">\n",
              "    <div class=\"colab-df-container\">\n",
              "      <div>\n",
              "<style scoped>\n",
              "    .dataframe tbody tr th:only-of-type {\n",
              "        vertical-align: middle;\n",
              "    }\n",
              "\n",
              "    .dataframe tbody tr th {\n",
              "        vertical-align: top;\n",
              "    }\n",
              "\n",
              "    .dataframe thead th {\n",
              "        text-align: right;\n",
              "    }\n",
              "</style>\n",
              "<table border=\"1\" class=\"dataframe\">\n",
              "  <thead>\n",
              "    <tr style=\"text-align: right;\">\n",
              "      <th></th>\n",
              "      <th>Entity</th>\n",
              "      <th>Code</th>\n",
              "      <th>Year</th>\n",
              "      <th>Schizophrenia (%)</th>\n",
              "      <th>Bipolar disorder (%)</th>\n",
              "      <th>Eating disorders (%)</th>\n",
              "      <th>Anxiety disorders (%)</th>\n",
              "      <th>Drug use disorders (%)</th>\n",
              "      <th>Depression (%)</th>\n",
              "      <th>Alcohol use disorders (%)</th>\n",
              "    </tr>\n",
              "    <tr>\n",
              "      <th>index</th>\n",
              "      <th></th>\n",
              "      <th></th>\n",
              "      <th></th>\n",
              "      <th></th>\n",
              "      <th></th>\n",
              "      <th></th>\n",
              "      <th></th>\n",
              "      <th></th>\n",
              "      <th></th>\n",
              "      <th></th>\n",
              "    </tr>\n",
              "  </thead>\n",
              "  <tbody>\n",
              "    <tr>\n",
              "      <th>112</th>\n",
              "      <td>Andean Latin America</td>\n",
              "      <td>NaN</td>\n",
              "      <td>1990</td>\n",
              "      <td>0.195471</td>\n",
              "      <td>0.870564</td>\n",
              "      <td>0.28782</td>\n",
              "      <td>4.217677</td>\n",
              "      <td>0.608921</td>\n",
              "      <td>2.621781</td>\n",
              "      <td>1.748912</td>\n",
              "    </tr>\n",
              "    <tr>\n",
              "      <th>113</th>\n",
              "      <td>Andean Latin America</td>\n",
              "      <td>NaN</td>\n",
              "      <td>1991</td>\n",
              "      <td>0.195484</td>\n",
              "      <td>0.870876</td>\n",
              "      <td>0.289362</td>\n",
              "      <td>4.220261</td>\n",
              "      <td>0.610489</td>\n",
              "      <td>2.631717</td>\n",
              "      <td>1.743910</td>\n",
              "    </tr>\n",
              "    <tr>\n",
              "      <th>114</th>\n",
              "      <td>Andean Latin America</td>\n",
              "      <td>NaN</td>\n",
              "      <td>1992</td>\n",
              "      <td>0.195497</td>\n",
              "      <td>0.871174</td>\n",
              "      <td>0.290563</td>\n",
              "      <td>4.222587</td>\n",
              "      <td>0.611990</td>\n",
              "      <td>2.639932</td>\n",
              "      <td>1.738703</td>\n",
              "    </tr>\n",
              "    <tr>\n",
              "      <th>115</th>\n",
              "      <td>Andean Latin America</td>\n",
              "      <td>NaN</td>\n",
              "      <td>1993</td>\n",
              "      <td>0.195523</td>\n",
              "      <td>0.871482</td>\n",
              "      <td>0.291833</td>\n",
              "      <td>4.224721</td>\n",
              "      <td>0.613995</td>\n",
              "      <td>2.646096</td>\n",
              "      <td>1.733697</td>\n",
              "    </tr>\n",
              "    <tr>\n",
              "      <th>116</th>\n",
              "      <td>Andean Latin America</td>\n",
              "      <td>NaN</td>\n",
              "      <td>1994</td>\n",
              "      <td>0.195569</td>\n",
              "      <td>0.871823</td>\n",
              "      <td>0.293111</td>\n",
              "      <td>4.226690</td>\n",
              "      <td>0.616448</td>\n",
              "      <td>2.651022</td>\n",
              "      <td>1.729266</td>\n",
              "    </tr>\n",
              "    <tr>\n",
              "      <th>...</th>\n",
              "      <td>...</td>\n",
              "      <td>...</td>\n",
              "      <td>...</td>\n",
              "      <td>...</td>\n",
              "      <td>...</td>\n",
              "      <td>...</td>\n",
              "      <td>...</td>\n",
              "      <td>...</td>\n",
              "      <td>...</td>\n",
              "      <td>...</td>\n",
              "    </tr>\n",
              "    <tr>\n",
              "      <th>108548</th>\n",
              "      <td>Zimbabwe</td>\n",
              "      <td>ZWE</td>\n",
              "      <td>2013</td>\n",
              "      <td>303564.60359</td>\n",
              "      <td>NaN</td>\n",
              "      <td>NaN</td>\n",
              "      <td>NaN</td>\n",
              "      <td>NaN</td>\n",
              "      <td>NaN</td>\n",
              "      <td>NaN</td>\n",
              "    </tr>\n",
              "    <tr>\n",
              "      <th>108549</th>\n",
              "      <td>Zimbabwe</td>\n",
              "      <td>ZWE</td>\n",
              "      <td>2014</td>\n",
              "      <td>311665.769283</td>\n",
              "      <td>NaN</td>\n",
              "      <td>NaN</td>\n",
              "      <td>NaN</td>\n",
              "      <td>NaN</td>\n",
              "      <td>NaN</td>\n",
              "      <td>NaN</td>\n",
              "    </tr>\n",
              "    <tr>\n",
              "      <th>108550</th>\n",
              "      <td>Zimbabwe</td>\n",
              "      <td>ZWE</td>\n",
              "      <td>2015</td>\n",
              "      <td>320638.507158</td>\n",
              "      <td>NaN</td>\n",
              "      <td>NaN</td>\n",
              "      <td>NaN</td>\n",
              "      <td>NaN</td>\n",
              "      <td>NaN</td>\n",
              "      <td>NaN</td>\n",
              "    </tr>\n",
              "    <tr>\n",
              "      <th>108551</th>\n",
              "      <td>Zimbabwe</td>\n",
              "      <td>ZWE</td>\n",
              "      <td>2016</td>\n",
              "      <td>330437.353798</td>\n",
              "      <td>NaN</td>\n",
              "      <td>NaN</td>\n",
              "      <td>NaN</td>\n",
              "      <td>NaN</td>\n",
              "      <td>NaN</td>\n",
              "      <td>NaN</td>\n",
              "    </tr>\n",
              "    <tr>\n",
              "      <th>108552</th>\n",
              "      <td>Zimbabwe</td>\n",
              "      <td>ZWE</td>\n",
              "      <td>2017</td>\n",
              "      <td>340583.157405</td>\n",
              "      <td>NaN</td>\n",
              "      <td>NaN</td>\n",
              "      <td>NaN</td>\n",
              "      <td>NaN</td>\n",
              "      <td>NaN</td>\n",
              "      <td>NaN</td>\n",
              "    </tr>\n",
              "  </tbody>\n",
              "</table>\n",
              "<p>93347 rows × 10 columns</p>\n",
              "</div>\n",
              "      <button class=\"colab-df-convert\" onclick=\"convertToInteractive('df-0dbfb2e4-f7a4-4471-acf6-c8851cd30e63')\"\n",
              "              title=\"Convert this dataframe to an interactive table.\"\n",
              "              style=\"display:none;\">\n",
              "        \n",
              "  <svg xmlns=\"http://www.w3.org/2000/svg\" height=\"24px\"viewBox=\"0 0 24 24\"\n",
              "       width=\"24px\">\n",
              "    <path d=\"M0 0h24v24H0V0z\" fill=\"none\"/>\n",
              "    <path d=\"M18.56 5.44l.94 2.06.94-2.06 2.06-.94-2.06-.94-.94-2.06-.94 2.06-2.06.94zm-11 1L8.5 8.5l.94-2.06 2.06-.94-2.06-.94L8.5 2.5l-.94 2.06-2.06.94zm10 10l.94 2.06.94-2.06 2.06-.94-2.06-.94-.94-2.06-.94 2.06-2.06.94z\"/><path d=\"M17.41 7.96l-1.37-1.37c-.4-.4-.92-.59-1.43-.59-.52 0-1.04.2-1.43.59L10.3 9.45l-7.72 7.72c-.78.78-.78 2.05 0 2.83L4 21.41c.39.39.9.59 1.41.59.51 0 1.02-.2 1.41-.59l7.78-7.78 2.81-2.81c.8-.78.8-2.07 0-2.86zM5.41 20L4 18.59l7.72-7.72 1.47 1.35L5.41 20z\"/>\n",
              "  </svg>\n",
              "      </button>\n",
              "      \n",
              "  <style>\n",
              "    .colab-df-container {\n",
              "      display:flex;\n",
              "      flex-wrap:wrap;\n",
              "      gap: 12px;\n",
              "    }\n",
              "\n",
              "    .colab-df-convert {\n",
              "      background-color: #E8F0FE;\n",
              "      border: none;\n",
              "      border-radius: 50%;\n",
              "      cursor: pointer;\n",
              "      display: none;\n",
              "      fill: #1967D2;\n",
              "      height: 32px;\n",
              "      padding: 0 0 0 0;\n",
              "      width: 32px;\n",
              "    }\n",
              "\n",
              "    .colab-df-convert:hover {\n",
              "      background-color: #E2EBFA;\n",
              "      box-shadow: 0px 1px 2px rgba(60, 64, 67, 0.3), 0px 1px 3px 1px rgba(60, 64, 67, 0.15);\n",
              "      fill: #174EA6;\n",
              "    }\n",
              "\n",
              "    [theme=dark] .colab-df-convert {\n",
              "      background-color: #3B4455;\n",
              "      fill: #D2E3FC;\n",
              "    }\n",
              "\n",
              "    [theme=dark] .colab-df-convert:hover {\n",
              "      background-color: #434B5C;\n",
              "      box-shadow: 0px 1px 3px 1px rgba(0, 0, 0, 0.15);\n",
              "      filter: drop-shadow(0px 1px 2px rgba(0, 0, 0, 0.3));\n",
              "      fill: #FFFFFF;\n",
              "    }\n",
              "  </style>\n",
              "\n",
              "      <script>\n",
              "        const buttonEl =\n",
              "          document.querySelector('#df-0dbfb2e4-f7a4-4471-acf6-c8851cd30e63 button.colab-df-convert');\n",
              "        buttonEl.style.display =\n",
              "          google.colab.kernel.accessAllowed ? 'block' : 'none';\n",
              "\n",
              "        async function convertToInteractive(key) {\n",
              "          const element = document.querySelector('#df-0dbfb2e4-f7a4-4471-acf6-c8851cd30e63');\n",
              "          const dataTable =\n",
              "            await google.colab.kernel.invokeFunction('convertToInteractive',\n",
              "                                                     [key], {});\n",
              "          if (!dataTable) return;\n",
              "\n",
              "          const docLinkHtml = 'Like what you see? Visit the ' +\n",
              "            '<a target=\"_blank\" href=https://colab.research.google.com/notebooks/data_table.ipynb>data table notebook</a>'\n",
              "            + ' to learn more about interactive tables.';\n",
              "          element.innerHTML = '';\n",
              "          dataTable['output_type'] = 'display_data';\n",
              "          await google.colab.output.renderOutput(dataTable, element);\n",
              "          const docLink = document.createElement('div');\n",
              "          docLink.innerHTML = docLinkHtml;\n",
              "          element.appendChild(docLink);\n",
              "        }\n",
              "      </script>\n",
              "    </div>\n",
              "  </div>\n",
              "  "
            ]
          },
          "metadata": {},
          "execution_count": 7
        }
      ]
    },
    {
      "cell_type": "code",
      "source": [
        "# create a new dataframe named 'req_df' to clean dataframe more effectively.\n",
        "req_headers = ['Entity', 'Year', 'Schizophrenia (%)', 'Bipolar disorder (%)',\n",
        "       'Eating disorders (%)', 'Anxiety disorders (%)',\n",
        "       'Drug use disorders (%)', 'Depression (%)',\n",
        "       'Alcohol use disorders (%)']\n",
        "req_df = df[req_headers]\n",
        "req_df.head()"
      ],
      "metadata": {
        "colab": {
          "base_uri": "https://localhost:8080/",
          "height": 299
        },
        "id": "UJBahSrfuQq_",
        "outputId": "0748c19b-2e95-40d8-ff95-50555fd261d5"
      },
      "execution_count": null,
      "outputs": [
        {
          "output_type": "execute_result",
          "data": {
            "text/plain": [
              "            Entity  Year Schizophrenia (%) Bipolar disorder (%)  \\\n",
              "index                                                             \n",
              "0      Afghanistan  1990           0.16056             0.697779   \n",
              "1      Afghanistan  1991          0.160312             0.697961   \n",
              "2      Afghanistan  1992          0.160135             0.698107   \n",
              "3      Afghanistan  1993          0.160037             0.698257   \n",
              "4      Afghanistan  1994          0.160022             0.698469   \n",
              "\n",
              "      Eating disorders (%)  Anxiety disorders (%)  Drug use disorders (%)  \\\n",
              "index                                                                       \n",
              "0                 0.101855               4.828830                1.677082   \n",
              "1                 0.099313               4.829740                1.684746   \n",
              "2                 0.096692               4.831108                1.694334   \n",
              "3                 0.094336               4.830864                1.705320   \n",
              "4                 0.092439               4.829423                1.716069   \n",
              "\n",
              "       Depression (%)  Alcohol use disorders (%)  \n",
              "index                                             \n",
              "0            4.071831                   0.672404  \n",
              "1            4.079531                   0.671768  \n",
              "2            4.088358                   0.670644  \n",
              "3            4.096190                   0.669738  \n",
              "4            4.099582                   0.669260  "
            ],
            "text/html": [
              "\n",
              "  <div id=\"df-2439a74d-6b7d-4d81-a81b-29fa04567731\">\n",
              "    <div class=\"colab-df-container\">\n",
              "      <div>\n",
              "<style scoped>\n",
              "    .dataframe tbody tr th:only-of-type {\n",
              "        vertical-align: middle;\n",
              "    }\n",
              "\n",
              "    .dataframe tbody tr th {\n",
              "        vertical-align: top;\n",
              "    }\n",
              "\n",
              "    .dataframe thead th {\n",
              "        text-align: right;\n",
              "    }\n",
              "</style>\n",
              "<table border=\"1\" class=\"dataframe\">\n",
              "  <thead>\n",
              "    <tr style=\"text-align: right;\">\n",
              "      <th></th>\n",
              "      <th>Entity</th>\n",
              "      <th>Year</th>\n",
              "      <th>Schizophrenia (%)</th>\n",
              "      <th>Bipolar disorder (%)</th>\n",
              "      <th>Eating disorders (%)</th>\n",
              "      <th>Anxiety disorders (%)</th>\n",
              "      <th>Drug use disorders (%)</th>\n",
              "      <th>Depression (%)</th>\n",
              "      <th>Alcohol use disorders (%)</th>\n",
              "    </tr>\n",
              "    <tr>\n",
              "      <th>index</th>\n",
              "      <th></th>\n",
              "      <th></th>\n",
              "      <th></th>\n",
              "      <th></th>\n",
              "      <th></th>\n",
              "      <th></th>\n",
              "      <th></th>\n",
              "      <th></th>\n",
              "      <th></th>\n",
              "    </tr>\n",
              "  </thead>\n",
              "  <tbody>\n",
              "    <tr>\n",
              "      <th>0</th>\n",
              "      <td>Afghanistan</td>\n",
              "      <td>1990</td>\n",
              "      <td>0.16056</td>\n",
              "      <td>0.697779</td>\n",
              "      <td>0.101855</td>\n",
              "      <td>4.828830</td>\n",
              "      <td>1.677082</td>\n",
              "      <td>4.071831</td>\n",
              "      <td>0.672404</td>\n",
              "    </tr>\n",
              "    <tr>\n",
              "      <th>1</th>\n",
              "      <td>Afghanistan</td>\n",
              "      <td>1991</td>\n",
              "      <td>0.160312</td>\n",
              "      <td>0.697961</td>\n",
              "      <td>0.099313</td>\n",
              "      <td>4.829740</td>\n",
              "      <td>1.684746</td>\n",
              "      <td>4.079531</td>\n",
              "      <td>0.671768</td>\n",
              "    </tr>\n",
              "    <tr>\n",
              "      <th>2</th>\n",
              "      <td>Afghanistan</td>\n",
              "      <td>1992</td>\n",
              "      <td>0.160135</td>\n",
              "      <td>0.698107</td>\n",
              "      <td>0.096692</td>\n",
              "      <td>4.831108</td>\n",
              "      <td>1.694334</td>\n",
              "      <td>4.088358</td>\n",
              "      <td>0.670644</td>\n",
              "    </tr>\n",
              "    <tr>\n",
              "      <th>3</th>\n",
              "      <td>Afghanistan</td>\n",
              "      <td>1993</td>\n",
              "      <td>0.160037</td>\n",
              "      <td>0.698257</td>\n",
              "      <td>0.094336</td>\n",
              "      <td>4.830864</td>\n",
              "      <td>1.705320</td>\n",
              "      <td>4.096190</td>\n",
              "      <td>0.669738</td>\n",
              "    </tr>\n",
              "    <tr>\n",
              "      <th>4</th>\n",
              "      <td>Afghanistan</td>\n",
              "      <td>1994</td>\n",
              "      <td>0.160022</td>\n",
              "      <td>0.698469</td>\n",
              "      <td>0.092439</td>\n",
              "      <td>4.829423</td>\n",
              "      <td>1.716069</td>\n",
              "      <td>4.099582</td>\n",
              "      <td>0.669260</td>\n",
              "    </tr>\n",
              "  </tbody>\n",
              "</table>\n",
              "</div>\n",
              "      <button class=\"colab-df-convert\" onclick=\"convertToInteractive('df-2439a74d-6b7d-4d81-a81b-29fa04567731')\"\n",
              "              title=\"Convert this dataframe to an interactive table.\"\n",
              "              style=\"display:none;\">\n",
              "        \n",
              "  <svg xmlns=\"http://www.w3.org/2000/svg\" height=\"24px\"viewBox=\"0 0 24 24\"\n",
              "       width=\"24px\">\n",
              "    <path d=\"M0 0h24v24H0V0z\" fill=\"none\"/>\n",
              "    <path d=\"M18.56 5.44l.94 2.06.94-2.06 2.06-.94-2.06-.94-.94-2.06-.94 2.06-2.06.94zm-11 1L8.5 8.5l.94-2.06 2.06-.94-2.06-.94L8.5 2.5l-.94 2.06-2.06.94zm10 10l.94 2.06.94-2.06 2.06-.94-2.06-.94-.94-2.06-.94 2.06-2.06.94z\"/><path d=\"M17.41 7.96l-1.37-1.37c-.4-.4-.92-.59-1.43-.59-.52 0-1.04.2-1.43.59L10.3 9.45l-7.72 7.72c-.78.78-.78 2.05 0 2.83L4 21.41c.39.39.9.59 1.41.59.51 0 1.02-.2 1.41-.59l7.78-7.78 2.81-2.81c.8-.78.8-2.07 0-2.86zM5.41 20L4 18.59l7.72-7.72 1.47 1.35L5.41 20z\"/>\n",
              "  </svg>\n",
              "      </button>\n",
              "      \n",
              "  <style>\n",
              "    .colab-df-container {\n",
              "      display:flex;\n",
              "      flex-wrap:wrap;\n",
              "      gap: 12px;\n",
              "    }\n",
              "\n",
              "    .colab-df-convert {\n",
              "      background-color: #E8F0FE;\n",
              "      border: none;\n",
              "      border-radius: 50%;\n",
              "      cursor: pointer;\n",
              "      display: none;\n",
              "      fill: #1967D2;\n",
              "      height: 32px;\n",
              "      padding: 0 0 0 0;\n",
              "      width: 32px;\n",
              "    }\n",
              "\n",
              "    .colab-df-convert:hover {\n",
              "      background-color: #E2EBFA;\n",
              "      box-shadow: 0px 1px 2px rgba(60, 64, 67, 0.3), 0px 1px 3px 1px rgba(60, 64, 67, 0.15);\n",
              "      fill: #174EA6;\n",
              "    }\n",
              "\n",
              "    [theme=dark] .colab-df-convert {\n",
              "      background-color: #3B4455;\n",
              "      fill: #D2E3FC;\n",
              "    }\n",
              "\n",
              "    [theme=dark] .colab-df-convert:hover {\n",
              "      background-color: #434B5C;\n",
              "      box-shadow: 0px 1px 3px 1px rgba(0, 0, 0, 0.15);\n",
              "      filter: drop-shadow(0px 1px 2px rgba(0, 0, 0, 0.3));\n",
              "      fill: #FFFFFF;\n",
              "    }\n",
              "  </style>\n",
              "\n",
              "      <script>\n",
              "        const buttonEl =\n",
              "          document.querySelector('#df-2439a74d-6b7d-4d81-a81b-29fa04567731 button.colab-df-convert');\n",
              "        buttonEl.style.display =\n",
              "          google.colab.kernel.accessAllowed ? 'block' : 'none';\n",
              "\n",
              "        async function convertToInteractive(key) {\n",
              "          const element = document.querySelector('#df-2439a74d-6b7d-4d81-a81b-29fa04567731');\n",
              "          const dataTable =\n",
              "            await google.colab.kernel.invokeFunction('convertToInteractive',\n",
              "                                                     [key], {});\n",
              "          if (!dataTable) return;\n",
              "\n",
              "          const docLinkHtml = 'Like what you see? Visit the ' +\n",
              "            '<a target=\"_blank\" href=https://colab.research.google.com/notebooks/data_table.ipynb>data table notebook</a>'\n",
              "            + ' to learn more about interactive tables.';\n",
              "          element.innerHTML = '';\n",
              "          dataTable['output_type'] = 'display_data';\n",
              "          await google.colab.output.renderOutput(dataTable, element);\n",
              "          const docLink = document.createElement('div');\n",
              "          docLink.innerHTML = docLinkHtml;\n",
              "          element.appendChild(docLink);\n",
              "        }\n",
              "      </script>\n",
              "    </div>\n",
              "  </div>\n",
              "  "
            ]
          },
          "metadata": {},
          "execution_count": 8
        }
      ]
    },
    {
      "cell_type": "code",
      "source": [
        "# cleaning the 'req_df' more\n",
        "req_df.isna().any(axis=0).sum()             # checks the null value present in the row"
      ],
      "metadata": {
        "colab": {
          "base_uri": "https://localhost:8080/"
        },
        "id": "V3ICwfWJuQpc",
        "outputId": "d84022d2-018b-403a-9267-c5bdc30691af"
      },
      "execution_count": null,
      "outputs": [
        {
          "output_type": "execute_result",
          "data": {
            "text/plain": [
              "7"
            ]
          },
          "metadata": {},
          "execution_count": 9
        }
      ]
    },
    {
      "cell_type": "code",
      "source": [
        "# drop null values from dataframe\n",
        "req_df.dropna(axis=0, inplace=True)"
      ],
      "metadata": {
        "colab": {
          "base_uri": "https://localhost:8080/"
        },
        "id": "fLHgmTIXvsY3",
        "outputId": "13ecd461-ff05-4b99-9d0b-1d1a79df6f27"
      },
      "execution_count": null,
      "outputs": [
        {
          "output_type": "stream",
          "name": "stderr",
          "text": [
            "/usr/local/lib/python3.8/dist-packages/pandas/util/_decorators.py:311: SettingWithCopyWarning: \n",
            "A value is trying to be set on a copy of a slice from a DataFrame\n",
            "\n",
            "See the caveats in the documentation: https://pandas.pydata.org/pandas-docs/stable/user_guide/indexing.html#returning-a-view-versus-a-copy\n",
            "  return func(*args, **kwargs)\n"
          ]
        }
      ]
    },
    {
      "cell_type": "code",
      "source": [
        "# check if any null values is still remaining \n",
        "req_df.isna().sum()"
      ],
      "metadata": {
        "colab": {
          "base_uri": "https://localhost:8080/"
        },
        "id": "QntPM_mfvsVk",
        "outputId": "39fe2dea-23f6-472b-d2f3-b3f3a1d75c7c"
      },
      "execution_count": null,
      "outputs": [
        {
          "output_type": "execute_result",
          "data": {
            "text/plain": [
              "Entity                       0\n",
              "Year                         0\n",
              "Schizophrenia (%)            0\n",
              "Bipolar disorder (%)         0\n",
              "Eating disorders (%)         0\n",
              "Anxiety disorders (%)        0\n",
              "Drug use disorders (%)       0\n",
              "Depression (%)               0\n",
              "Alcohol use disorders (%)    0\n",
              "dtype: int64"
            ]
          },
          "metadata": {},
          "execution_count": 11
        }
      ]
    },
    {
      "cell_type": "code",
      "source": [
        "# data_check stats\n",
        "\n",
        "data_stats = pd.DataFrame({\n",
        "    'Unique':df.nunique(),\n",
        "    'null':df.isna().sum(),\n",
        "    'null percent':(df.isna().sum())/len(df)*100,\n",
        "    'Type':df.dtypes.values\n",
        "})\n",
        "        \n",
        "data_stats"
      ],
      "metadata": {
        "colab": {
          "base_uri": "https://localhost:8080/",
          "height": 363
        },
        "id": "_iwUPPE8vsTb",
        "outputId": "f9bef437-deb1-4c85-f9a9-fd4d2edd3c74"
      },
      "execution_count": null,
      "outputs": [
        {
          "output_type": "execute_result",
          "data": {
            "text/plain": [
              "                           Unique   null  null percent     Type\n",
              "Entity                        276      0      0.000000   object\n",
              "Code                          236   5168      5.228917   object\n",
              "Year                          259      0      0.000000   object\n",
              "Schizophrenia (%)           25661  72960     73.820003   object\n",
              "Bipolar disorder (%)        19358  79429     80.365255   object\n",
              "Eating disorders (%)        72657   8317      8.415035   object\n",
              "Anxiety disorders (%)        6457  92367     93.455760  float64\n",
              "Drug use disorders (%)       6435  92367     93.455760  float64\n",
              "Depression (%)               6460  92367     93.455760  float64\n",
              "Alcohol use disorders (%)    6459  92367     93.455760  float64"
            ],
            "text/html": [
              "\n",
              "  <div id=\"df-d7ed291a-f6ba-4d19-81e3-52d908c1957d\">\n",
              "    <div class=\"colab-df-container\">\n",
              "      <div>\n",
              "<style scoped>\n",
              "    .dataframe tbody tr th:only-of-type {\n",
              "        vertical-align: middle;\n",
              "    }\n",
              "\n",
              "    .dataframe tbody tr th {\n",
              "        vertical-align: top;\n",
              "    }\n",
              "\n",
              "    .dataframe thead th {\n",
              "        text-align: right;\n",
              "    }\n",
              "</style>\n",
              "<table border=\"1\" class=\"dataframe\">\n",
              "  <thead>\n",
              "    <tr style=\"text-align: right;\">\n",
              "      <th></th>\n",
              "      <th>Unique</th>\n",
              "      <th>null</th>\n",
              "      <th>null percent</th>\n",
              "      <th>Type</th>\n",
              "    </tr>\n",
              "  </thead>\n",
              "  <tbody>\n",
              "    <tr>\n",
              "      <th>Entity</th>\n",
              "      <td>276</td>\n",
              "      <td>0</td>\n",
              "      <td>0.000000</td>\n",
              "      <td>object</td>\n",
              "    </tr>\n",
              "    <tr>\n",
              "      <th>Code</th>\n",
              "      <td>236</td>\n",
              "      <td>5168</td>\n",
              "      <td>5.228917</td>\n",
              "      <td>object</td>\n",
              "    </tr>\n",
              "    <tr>\n",
              "      <th>Year</th>\n",
              "      <td>259</td>\n",
              "      <td>0</td>\n",
              "      <td>0.000000</td>\n",
              "      <td>object</td>\n",
              "    </tr>\n",
              "    <tr>\n",
              "      <th>Schizophrenia (%)</th>\n",
              "      <td>25661</td>\n",
              "      <td>72960</td>\n",
              "      <td>73.820003</td>\n",
              "      <td>object</td>\n",
              "    </tr>\n",
              "    <tr>\n",
              "      <th>Bipolar disorder (%)</th>\n",
              "      <td>19358</td>\n",
              "      <td>79429</td>\n",
              "      <td>80.365255</td>\n",
              "      <td>object</td>\n",
              "    </tr>\n",
              "    <tr>\n",
              "      <th>Eating disorders (%)</th>\n",
              "      <td>72657</td>\n",
              "      <td>8317</td>\n",
              "      <td>8.415035</td>\n",
              "      <td>object</td>\n",
              "    </tr>\n",
              "    <tr>\n",
              "      <th>Anxiety disorders (%)</th>\n",
              "      <td>6457</td>\n",
              "      <td>92367</td>\n",
              "      <td>93.455760</td>\n",
              "      <td>float64</td>\n",
              "    </tr>\n",
              "    <tr>\n",
              "      <th>Drug use disorders (%)</th>\n",
              "      <td>6435</td>\n",
              "      <td>92367</td>\n",
              "      <td>93.455760</td>\n",
              "      <td>float64</td>\n",
              "    </tr>\n",
              "    <tr>\n",
              "      <th>Depression (%)</th>\n",
              "      <td>6460</td>\n",
              "      <td>92367</td>\n",
              "      <td>93.455760</td>\n",
              "      <td>float64</td>\n",
              "    </tr>\n",
              "    <tr>\n",
              "      <th>Alcohol use disorders (%)</th>\n",
              "      <td>6459</td>\n",
              "      <td>92367</td>\n",
              "      <td>93.455760</td>\n",
              "      <td>float64</td>\n",
              "    </tr>\n",
              "  </tbody>\n",
              "</table>\n",
              "</div>\n",
              "      <button class=\"colab-df-convert\" onclick=\"convertToInteractive('df-d7ed291a-f6ba-4d19-81e3-52d908c1957d')\"\n",
              "              title=\"Convert this dataframe to an interactive table.\"\n",
              "              style=\"display:none;\">\n",
              "        \n",
              "  <svg xmlns=\"http://www.w3.org/2000/svg\" height=\"24px\"viewBox=\"0 0 24 24\"\n",
              "       width=\"24px\">\n",
              "    <path d=\"M0 0h24v24H0V0z\" fill=\"none\"/>\n",
              "    <path d=\"M18.56 5.44l.94 2.06.94-2.06 2.06-.94-2.06-.94-.94-2.06-.94 2.06-2.06.94zm-11 1L8.5 8.5l.94-2.06 2.06-.94-2.06-.94L8.5 2.5l-.94 2.06-2.06.94zm10 10l.94 2.06.94-2.06 2.06-.94-2.06-.94-.94-2.06-.94 2.06-2.06.94z\"/><path d=\"M17.41 7.96l-1.37-1.37c-.4-.4-.92-.59-1.43-.59-.52 0-1.04.2-1.43.59L10.3 9.45l-7.72 7.72c-.78.78-.78 2.05 0 2.83L4 21.41c.39.39.9.59 1.41.59.51 0 1.02-.2 1.41-.59l7.78-7.78 2.81-2.81c.8-.78.8-2.07 0-2.86zM5.41 20L4 18.59l7.72-7.72 1.47 1.35L5.41 20z\"/>\n",
              "  </svg>\n",
              "      </button>\n",
              "      \n",
              "  <style>\n",
              "    .colab-df-container {\n",
              "      display:flex;\n",
              "      flex-wrap:wrap;\n",
              "      gap: 12px;\n",
              "    }\n",
              "\n",
              "    .colab-df-convert {\n",
              "      background-color: #E8F0FE;\n",
              "      border: none;\n",
              "      border-radius: 50%;\n",
              "      cursor: pointer;\n",
              "      display: none;\n",
              "      fill: #1967D2;\n",
              "      height: 32px;\n",
              "      padding: 0 0 0 0;\n",
              "      width: 32px;\n",
              "    }\n",
              "\n",
              "    .colab-df-convert:hover {\n",
              "      background-color: #E2EBFA;\n",
              "      box-shadow: 0px 1px 2px rgba(60, 64, 67, 0.3), 0px 1px 3px 1px rgba(60, 64, 67, 0.15);\n",
              "      fill: #174EA6;\n",
              "    }\n",
              "\n",
              "    [theme=dark] .colab-df-convert {\n",
              "      background-color: #3B4455;\n",
              "      fill: #D2E3FC;\n",
              "    }\n",
              "\n",
              "    [theme=dark] .colab-df-convert:hover {\n",
              "      background-color: #434B5C;\n",
              "      box-shadow: 0px 1px 3px 1px rgba(0, 0, 0, 0.15);\n",
              "      filter: drop-shadow(0px 1px 2px rgba(0, 0, 0, 0.3));\n",
              "      fill: #FFFFFF;\n",
              "    }\n",
              "  </style>\n",
              "\n",
              "      <script>\n",
              "        const buttonEl =\n",
              "          document.querySelector('#df-d7ed291a-f6ba-4d19-81e3-52d908c1957d button.colab-df-convert');\n",
              "        buttonEl.style.display =\n",
              "          google.colab.kernel.accessAllowed ? 'block' : 'none';\n",
              "\n",
              "        async function convertToInteractive(key) {\n",
              "          const element = document.querySelector('#df-d7ed291a-f6ba-4d19-81e3-52d908c1957d');\n",
              "          const dataTable =\n",
              "            await google.colab.kernel.invokeFunction('convertToInteractive',\n",
              "                                                     [key], {});\n",
              "          if (!dataTable) return;\n",
              "\n",
              "          const docLinkHtml = 'Like what you see? Visit the ' +\n",
              "            '<a target=\"_blank\" href=https://colab.research.google.com/notebooks/data_table.ipynb>data table notebook</a>'\n",
              "            + ' to learn more about interactive tables.';\n",
              "          element.innerHTML = '';\n",
              "          dataTable['output_type'] = 'display_data';\n",
              "          await google.colab.output.renderOutput(dataTable, element);\n",
              "          const docLink = document.createElement('div');\n",
              "          docLink.innerHTML = docLinkHtml;\n",
              "          element.appendChild(docLink);\n",
              "        }\n",
              "      </script>\n",
              "    </div>\n",
              "  </div>\n",
              "  "
            ]
          },
          "metadata": {},
          "execution_count": 12
        }
      ]
    },
    {
      "cell_type": "code",
      "source": [
        "# converting the datatype of object as per necessity\n",
        "def convert_str_to_float(x):\n",
        "    if type(x)!=float:\n",
        "        if x[0] in ['0','1','2','3','4','5','6','7','8','9']:\n",
        "            return float(x)\n",
        "        return float(0)\n",
        "    return x\n",
        "\n",
        "for i in req_df.columns[2:]:\n",
        "    req_df[i]=req_df[i].apply(convert_str_to_float)"
      ],
      "metadata": {
        "colab": {
          "base_uri": "https://localhost:8080/"
        },
        "id": "Y2SzvsxIvsPS",
        "outputId": "493d26da-2bd6-43f3-bf62-0f3ebcef7cce"
      },
      "execution_count": null,
      "outputs": [
        {
          "output_type": "stream",
          "name": "stderr",
          "text": [
            "<ipython-input-13-5b9dd877c234>:10: SettingWithCopyWarning: \n",
            "A value is trying to be set on a copy of a slice from a DataFrame.\n",
            "Try using .loc[row_indexer,col_indexer] = value instead\n",
            "\n",
            "See the caveats in the documentation: https://pandas.pydata.org/pandas-docs/stable/user_guide/indexing.html#returning-a-view-versus-a-copy\n",
            "  req_df[i]=req_df[i].apply(convert_str_to_float)\n"
          ]
        }
      ]
    },
    {
      "cell_type": "code",
      "source": [
        "for i in req_df.columns[2:]:\n",
        "    print(i)"
      ],
      "metadata": {
        "colab": {
          "base_uri": "https://localhost:8080/"
        },
        "id": "w9itsPLhvsNq",
        "outputId": "6eddd991-932d-458f-bb42-d70b83e535e9"
      },
      "execution_count": null,
      "outputs": [
        {
          "output_type": "stream",
          "name": "stdout",
          "text": [
            "Schizophrenia (%)\n",
            "Bipolar disorder (%)\n",
            "Eating disorders (%)\n",
            "Anxiety disorders (%)\n",
            "Drug use disorders (%)\n",
            "Depression (%)\n",
            "Alcohol use disorders (%)\n"
          ]
        }
      ]
    },
    {
      "cell_type": "code",
      "source": [
        "# Exploratory Data Analysis\n",
        "\"\"\"\n",
        "    EDA on the mean of every issue with respect to Entity & Year\n",
        "\"\"\"\n",
        "\n",
        "# grouped datas\n",
        "nation_group_issue_avg = req_df.groupby('Entity', as_index = False).agg({'Schizophrenia (%)':'mean', 'Bipolar disorder (%)':'mean','Eating disorders (%)':'mean', 'Anxiety disorders (%)':'mean', 'Drug use disorders (%)':'mean', 'Depression (%)':'mean', 'Alcohol use disorders (%)':'mean'})"
      ],
      "metadata": {
        "id": "N59ZSfATvsJv"
      },
      "execution_count": null,
      "outputs": []
    },
    {
      "cell_type": "code",
      "source": [
        "for i in nation_group_issue_avg.columns[1:]:\n",
        "    print(i)"
      ],
      "metadata": {
        "colab": {
          "base_uri": "https://localhost:8080/"
        },
        "id": "x3RSvHGVxkSF",
        "outputId": "6ef5eb66-0716-4c80-ba1c-aac0bd544c4a"
      },
      "execution_count": null,
      "outputs": [
        {
          "output_type": "stream",
          "name": "stdout",
          "text": [
            "Schizophrenia (%)\n",
            "Bipolar disorder (%)\n",
            "Eating disorders (%)\n",
            "Anxiety disorders (%)\n",
            "Drug use disorders (%)\n",
            "Depression (%)\n",
            "Alcohol use disorders (%)\n"
          ]
        }
      ]
    },
    {
      "cell_type": "code",
      "source": [
        "import matplotlib.pyplot as plt\n",
        "import random\n",
        "\n",
        "\n",
        "colors = ['red', 'blue', 'green']\n",
        "\n",
        "\n",
        "for i in nation_group_issue_avg.columns[1:]:\n",
        "    top_10_nation_group_issue_avg = nation_group_issue_avg.sort_values(by=i, ascending=False).head(10)\n",
        "    \n",
        "    # generates the random colors for bars in the figure.\n",
        "    bar_colors = []\n",
        "    for j in range(20):\n",
        "        bar_colors.append(random.choice(colors))\n",
        "        \n",
        "    fig, ax = plt.subplots(figsize=(8,8))\n",
        "    ax.bar(top_10_nation_group_issue_avg['Entity'],top_10_nation_group_issue_avg[i] , width=0.35, label=i, color=bar_colors)\n",
        "    \n",
        "    ax.set_ylabel('avg_mental_issue')\n",
        "    ax.set_title(f\"Top 10 average mental issue visualization for '{i}' by nations \")\n",
        "    plt.xticks(rotation=90)\n",
        "    ax.legend()\n",
        "    \n",
        "    plt.show()\n"
      ],
      "metadata": {
        "colab": {
          "base_uri": "https://localhost:8080/",
          "height": 1000
        },
        "id": "ONEvFFOYvsH6",
        "outputId": "1970fd42-d28e-458a-bbf1-ff0389692fac"
      },
      "execution_count": null,
      "outputs": [
        {
          "output_type": "display_data",
          "data": {
            "text/plain": [
              "<Figure size 576x576 with 1 Axes>"
            ],
            "image/png": "[encoded data removed]"
          },
          "metadata": {
            "needs_background": "light"
          }
        },
        {
          "output_type": "display_data",
          "data": {
            "text/plain": [
              "<Figure size 576x576 with 1 Axes>"
            ],
            "image/png": "[encoded data removed]"
          },
          "metadata": {
            "needs_background": "light"
          }
        },
        {
          "output_type": "display_data",
          "data": {
            "text/plain": [
              "<Figure size 576x576 with 1 Axes>"
            ],
            "image/png": "[encoded data removed]"
          },
          "metadata": {
            "needs_background": "light"
          }
        },
        {
          "output_type": "display_data",
          "data": {
            "text/plain": [
              "<Figure size 576x576 with 1 Axes>"
            ],
            "image/png": "[encoded data removed]"
          },
          "metadata": {
            "needs_background": "light"
          }
        },
        {
          "output_type": "display_data",
          "data": {
            "text/plain": [
              "<Figure size 576x576 with 1 Axes>"
            ],
            "image/png": "[encoded data removed]"
          },
          "metadata": {
            "needs_background": "light"
          }
        },
        {
          "output_type": "display_data",
          "data": {
            "text/plain": [
              "<Figure size 576x576 with 1 Axes>"
            ],
            "image/png": "[encoded data removed]"
          },
          "metadata": {
            "needs_background": "light"
          }
        },
        {
          "output_type": "display_data",
          "data": {
            "text/plain": [
              "<Figure size 576x576 with 1 Axes>"
            ],
            "image/png": "[encoded data removed]"
          },
          "metadata": {
            "needs_background": "light"
          }
        }
      ]
    },
    {
      "cell_type": "code",
      "source": [],
      "metadata": {
        "id": "Y2q2-1HlylYz"
      },
      "execution_count": null,
      "outputs": []
    },
    {
      "cell_type": "code",
      "source": [],
      "metadata": {
        "id": "37B3ClShylWx"
      },
      "execution_count": null,
      "outputs": []
    },
    {
      "cell_type": "code",
      "source": [],
      "metadata": {
        "id": "dBZm8gsfylTP"
      },
      "execution_count": null,
      "outputs": []
    },
    {
      "cell_type": "code",
      "source": [],
      "metadata": {
        "id": "iISmDSqvylRC"
      },
      "execution_count": null,
      "outputs": []
    },
    {
      "cell_type": "code",
      "source": [],
      "metadata": {
        "id": "6Hwjp-Z9yk2R"
      },
      "execution_count": null,
      "outputs": []
    },
    {
      "cell_type": "code",
      "source": [],
      "metadata": {
        "id": "a-6lCS8qyk0H"
      },
      "execution_count": null,
      "outputs": []
    },
    {
      "cell_type": "code",
      "source": [],
      "metadata": {
        "id": "mi6dbXjCykw0"
      },
      "execution_count": null,
      "outputs": []
    },
    {
      "cell_type": "code",
      "source": [],
      "metadata": {
        "id": "jiGcx8rhykuv"
      },
      "execution_count": null,
      "outputs": []
    },
    {
      "cell_type": "code",
      "source": [],
      "metadata": {
        "id": "FojYxzOLykrj"
      },
      "execution_count": null,
      "outputs": []
    },
    {
      "cell_type": "code",
      "source": [],
      "metadata": {
        "id": "mAzEuN6Fykpd"
      },
      "execution_count": null,
      "outputs": []
    },
    {
      "cell_type": "code",
      "source": [],
      "metadata": {
        "id": "DXxapRrsykmW"
      },
      "execution_count": null,
      "outputs": []
    },
    {
      "cell_type": "code",
      "source": [],
      "metadata": {
        "id": "oMjw2S5kykkS"
      },
      "execution_count": null,
      "outputs": []
    },
    {
      "cell_type": "code",
      "source": [],
      "metadata": {
        "id": "4dGF9jYVykhL"
      },
      "execution_count": null,
      "outputs": []
    },
    {
      "cell_type": "code",
      "source": [],
      "metadata": {
        "id": "Mu7rLZkwykfC"
      },
      "execution_count": null,
      "outputs": []
    },
    {
      "cell_type": "code",
      "source": [],
      "metadata": {
        "id": "x5voXymqykbn"
      },
      "execution_count": null,
      "outputs": []
    },
    {
      "cell_type": "code",
      "source": [],
      "metadata": {
        "id": "1L_kThcXykZt"
      },
      "execution_count": null,
      "outputs": []
    },
    {
      "cell_type": "code",
      "source": [],
      "metadata": {
        "id": "Sj0BKO-rvsCd"
      },
      "execution_count": null,
      "outputs": []
    },
    {
      "cell_type": "code",
      "source": [],
      "metadata": {
        "id": "AlkgNV5Wvr-0"
      },
      "execution_count": null,
      "outputs": []
    },
    {
      "cell_type": "code",
      "source": [],
      "metadata": {
        "id": "9s-6LiYGvr8w"
      },
      "execution_count": null,
      "outputs": []
    },
    {
      "cell_type": "code",
      "source": [],
      "metadata": {
        "id": "ZiyN-r8JuQl9"
      },
      "execution_count": null,
      "outputs": []
    },
    {
      "cell_type": "code",
      "source": [],
      "metadata": {
        "id": "Ryr8l-JNuQkM"
      },
      "execution_count": null,
      "outputs": []
    },
    {
      "cell_type": "code",
      "source": [],
      "metadata": {
        "id": "7r7Ok8a1uQgo"
      },
      "execution_count": null,
      "outputs": []
    },
    {
      "cell_type": "code",
      "source": [],
      "metadata": {
        "id": "eNB4PSJvuQee"
      },
      "execution_count": null,
      "outputs": []
    }
  ]
}